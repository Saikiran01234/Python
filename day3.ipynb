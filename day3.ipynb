{
 "cells": [
  {
   "cell_type": "markdown",
   "id": "f42a2cce",
   "metadata": {},
   "source": [
    "## Python Program to check whether a number is an Armstrong Number"
   ]
  },
  {
   "cell_type": "code",
   "execution_count": null,
   "id": "55bd8f06",
   "metadata": {},
   "outputs": [],
   "source": [
    "for num in (range(10000)):\n",
    "    strnum = str(num)\n",
    "    pow = len(strnum)\n",
    "    sum = 0\n",
    "    for i in range(len(strnum) - 1):\n",
    "        sum += int(strnum[i]) ** pow\n",
    "        \n",
    "        "
   ]
  },
  {
   "cell_type": "markdown",
   "id": "68e9538a",
   "metadata": {},
   "source": [
    "Lists"
   ]
  },
  {
   "cell_type": "code",
   "execution_count": null,
   "id": "61c73917",
   "metadata": {},
   "outputs": [
    {
     "name": "stdout",
     "output_type": "stream",
     "text": [
      "[10, 20, 30, 40, 'Hello']\n",
      "[10, 20, 100, 40, 'Hello']\n",
      "[10, 200, 20, 100, 40, 'Hello']\n",
      "[10, 200, 20, 100, 40, 'Hello', 300]\n",
      "[10, 20, 100, 40, 'Hello', 300]\n",
      "[10, 20, 100, 40, 300]\n",
      "[10, 20, 100, 40]\n",
      "[]\n",
      "[1, 2, 3]\n",
      "[1, 2, 3, 4]\n",
      "[1, 2, 3, 4]\n"
     ]
    }
   ],
   "source": [
    "list = [10, 20, 30, 40, 'Hello']\n",
    "print(list)\n",
    "list[2] = 100\n",
    "print(list)\n",
    "\n",
    "list.insert(1, 200)\n",
    "print(list)\n",
    "\n",
    "list.append(300)\n",
    "print(list)\n",
    "\n",
    "list.remove(200)\n",
    "print(list)\n",
    "\n",
    "list.pop(4)\n",
    "print(list)\n",
    "\n",
    "list.pop()\n",
    "print(list)\n",
    "\n",
    "list.clear()\n",
    "print(list)\n",
    "\n",
    "list1 = [1, 2, 3]\n",
    "list2 = list1.copy()\n",
    "print(list2)\n",
    "\n",
    "\n",
    "list2.append(4)\n",
    "print(list1)\n",
    "print(list2)\n",
    "\n"
   ]
  },
  {
   "cell_type": "code",
   "execution_count": 20,
   "id": "4dab3c10",
   "metadata": {},
   "outputs": [
    {
     "name": "stdout",
     "output_type": "stream",
     "text": [
      "[1, 8, 27, 64, 125]\n"
     ]
    }
   ],
   "source": [
    "num_list = [1, 2, 3, 4, 5]\n",
    "list2 = []\n",
    "for i in num_list:\n",
    "    list2.append(i**3)\n",
    "print(list2)"
   ]
  },
  {
   "cell_type": "code",
   "execution_count": 24,
   "id": "0c38bc31",
   "metadata": {},
   "outputs": [
    {
     "ename": "TypeError",
     "evalue": "'list' object is not callable",
     "output_type": "error",
     "traceback": [
      "\u001b[1;31m---------------------------------------------------------------------------\u001b[0m",
      "\u001b[1;31mTypeError\u001b[0m                                 Traceback (most recent call last)",
      "Cell \u001b[1;32mIn[24], line 3\u001b[0m\n\u001b[0;32m      1\u001b[0m \u001b[38;5;66;03m#convert a string 'abcdefghijklmnopqrstuvwxyz' to a list of characters\u001b[39;00m\n\u001b[0;32m      2\u001b[0m \u001b[38;5;28mstr\u001b[39m \u001b[38;5;241m=\u001b[39m \u001b[38;5;124m'\u001b[39m\u001b[38;5;124mabcdefghijklmnopqrstuvwxyz\u001b[39m\u001b[38;5;124m'\u001b[39m\n\u001b[1;32m----> 3\u001b[0m char_list \u001b[38;5;241m=\u001b[39m \u001b[38;5;28;43mlist\u001b[39;49m\u001b[43m(\u001b[49m\u001b[38;5;28;43mstr\u001b[39;49m\u001b[43m)\u001b[49m\n\u001b[0;32m      4\u001b[0m output \u001b[38;5;241m=\u001b[39m []\n\u001b[0;32m      5\u001b[0m \u001b[38;5;28;01mfor\u001b[39;00m char \u001b[38;5;129;01min\u001b[39;00m char_list:\n",
      "\u001b[1;31mTypeError\u001b[0m: 'list' object is not callable"
     ]
    }
   ],
   "source": [
    "#convert a string 'abcdefghijklmnopqrstuvwxyz' to a list of characters\n",
    "str = 'abcdefghijklmnopqrstuvwxyz'\n",
    "char_list = list(str)\n",
    "output = []\n",
    "for char in char_list:\n",
    "    output.append(char)\n",
    "print(output)"
   ]
  }
 ],
 "metadata": {
  "kernelspec": {
   "display_name": "Python 3",
   "language": "python",
   "name": "python3"
  },
  "language_info": {
   "codemirror_mode": {
    "name": "ipython",
    "version": 3
   },
   "file_extension": ".py",
   "mimetype": "text/x-python",
   "name": "python",
   "nbconvert_exporter": "python",
   "pygments_lexer": "ipython3",
   "version": "3.10.11"
  }
 },
 "nbformat": 4,
 "nbformat_minor": 5
}
