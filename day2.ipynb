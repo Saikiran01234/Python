{
 "cells": [
  {
   "cell_type": "markdown",
   "metadata": {},
   "source": [
    "## String Operations in Python"
   ]
  },
  {
   "cell_type": "code",
   "execution_count": null,
   "metadata": {},
   "outputs": [
    {
     "data": {
      "text/plain": [
       "6"
      ]
     },
     "execution_count": 1,
     "metadata": {},
     "output_type": "execute_result"
    }
   ],
   "source": [
    "a = \"Python\"\n",
    "len(a)"
   ]
  },
  {
   "cell_type": "code",
   "execution_count": null,
   "metadata": {},
   "outputs": [
    {
     "name": "stdout",
     "output_type": "stream",
     "text": [
      "Welcome to the land of Wistoria and the magical sw\n",
      "Welco\n",
      "Welcome to the land of Wistoria and the magical swords\n",
      "al swords\n",
      "t emocleW\n",
      " to the land\n"
     ]
    }
   ],
   "source": [
    "str = \"Welcome to the land of Wistoria and the magical swords\"\n",
    "\n",
    "print(str[0:-4])\n",
    "print(str[0:5])\n",
    "print(str[:])\n",
    "print(str[-9:]) \n",
    "print(str[8::-1]) ##reverse the entire string\n",
    "print(str[7:19]) #space is also counted as an index"
   ]
  },
  {
   "cell_type": "markdown",
   "metadata": {},
   "source": [
    "## Check whether a string is a Palindrome or not"
   ]
  },
  {
   "cell_type": "code",
   "execution_count": null,
   "metadata": {},
   "outputs": [
    {
     "name": "stdout",
     "output_type": "stream",
     "text": [
      "Not a palindrome\n"
     ]
    }
   ],
   "source": [
    "str = input(\"Enter a String: \")\n",
    "if str[:].lower() == str[::-1].lower():\n",
    "    print(\"The given string is a Palindrome\")\n",
    "else:\n",
    "    print(\"Not a palindrome\")"
   ]
  },
  {
   "cell_type": "markdown",
   "metadata": {},
   "source": [
    "## Convert a string to Upper & Lower Case"
   ]
  },
  {
   "cell_type": "code",
   "execution_count": null,
   "metadata": {},
   "outputs": [
    {
     "name": "stdout",
     "output_type": "stream",
     "text": [
      "I AM A STUDENT\n",
      "i am a student\n",
      "i am a student\n",
      "I am a student\n",
      "I Am A STuDENt\n",
      "I Am A Student\n"
     ]
    }
   ],
   "source": [
    "str = \"i aM a stUdenT\"\n",
    "print(str.upper())\n",
    "print(str.lower())\n",
    "print(str.casefold()) #convert the whole string to lower case\n",
    "print(str.capitalize())\n",
    "print(str.swapcase()) #swap the cases alternatively\n",
    "print(str.title()) #first letter of every word would be capital"
   ]
  },
  {
   "cell_type": "code",
   "execution_count": null,
   "metadata": {},
   "outputs": [
    {
     "name": "stdout",
     "output_type": "stream",
     "text": [
      "['S#ai', 'Ki#ran']\n",
      "Virat\n",
      "Chinni Chaitanya\n"
     ]
    }
   ],
   "source": [
    "str = \"S#ai Ki#ran\"\n",
    "str1 = \"Virat \"\n",
    "str2 = \"Chinni Chaitanya\"\n",
    "str3 = \"Rohit \"\n",
    "\n",
    "print(str.split())\n",
    "print(str1.rstrip())\n",
    "print(str2.lstrip())\n"
   ]
  },
  {
   "cell_type": "code",
   "execution_count": null,
   "metadata": {},
   "outputs": [
    {
     "name": "stdout",
     "output_type": "stream",
     "text": [
      "Hi Hello Everyone! How's the weather today? I 'm ready to meet you all. Just say goodbye \n",
      "and also, I would like to tell something which is why I am writing this, message \n",
      "for my fellow mates.\n",
      "Hi Hello Everyone! How's the weather today? I 'm ready to meet you all. Just say goodbye \n",
      "and also. I would like to tell something which is why I am writing this. message \n",
      "for my fellow mates.\n"
     ]
    }
   ],
   "source": [
    "str = \"Hi Hello Everyone! How's the weather today? I 'm ready to meet you all. Just say goodbye \\nand also, I would like to tell something which is why I am writing this, message \\nfor my fellow mates.\"\n",
    "print(str)\n",
    "print(str.replace(',', '.'))"
   ]
  },
  {
   "cell_type": "code",
   "execution_count": null,
   "metadata": {},
   "outputs": [
    {
     "name": "stdout",
     "output_type": "stream",
     "text": [
      "Like it is said, \"to err is human, to forgive is divine\"\n"
     ]
    }
   ],
   "source": [
    "print(\"\"'Like it is said, \"to err is human, to forgive is divine\"'\"\")"
   ]
  },
  {
   "cell_type": "code",
   "execution_count": null,
   "metadata": {},
   "outputs": [
    {
     "name": "stdout",
     "output_type": "stream",
     "text": [
      "The sales value for the month of August are 10000\n"
     ]
    }
   ],
   "source": [
    "sales = 10000\n",
    "month = 'August'\n",
    "print(f'The sales value for the month of {month} are {sales}') #format"
   ]
  },
  {
   "cell_type": "code",
   "execution_count": null,
   "metadata": {},
   "outputs": [
    {
     "name": "stdout",
     "output_type": "stream",
     "text": [
      "0\n",
      "1\n",
      "2\n",
      "3\n",
      "4\n",
      "5\n",
      "6\n",
      "7\n",
      "8\n",
      "9\n"
     ]
    }
   ],
   "source": [
    "x = 0\n",
    "while(x < 10):\n",
    "    print(x)\n",
    "    x=x+1"
   ]
  },
  {
   "cell_type": "markdown",
   "metadata": {},
   "source": [
    "## Break and Continue Statements"
   ]
  },
  {
   "cell_type": "code",
   "execution_count": null,
   "metadata": {},
   "outputs": [
    {
     "ename": "ValueError",
     "evalue": "invalid literal for int() with base 10: ''",
     "output_type": "error",
     "traceback": [
      "\u001b[1;31m---------------------------------------------------------------------------\u001b[0m",
      "\u001b[1;31mValueError\u001b[0m                                Traceback (most recent call last)",
      "Cell \u001b[1;32mIn[64], line 1\u001b[0m\n\u001b[1;32m----> 1\u001b[0m X \u001b[38;5;241m=\u001b[39m \u001b[38;5;28;43mint\u001b[39;49m\u001b[43m(\u001b[49m\u001b[38;5;28;43minput\u001b[39;49m\u001b[43m(\u001b[49m\u001b[38;5;124;43m\"\u001b[39;49m\u001b[38;5;124;43mEnter a number: \u001b[39;49m\u001b[38;5;124;43m\"\u001b[39;49m\u001b[43m)\u001b[49m\u001b[43m)\u001b[49m\n\u001b[0;32m      2\u001b[0m \u001b[38;5;28;01mwhile\u001b[39;00m(X):\n\u001b[0;32m      3\u001b[0m     \u001b[38;5;28;01mif\u001b[39;00m(X \u001b[38;5;241m>\u001b[39m \u001b[38;5;241m500\u001b[39m):\n",
      "\u001b[1;31mValueError\u001b[0m: invalid literal for int() with base 10: ''"
     ]
    }
   ],
   "source": [
    "X = int(input(\"Enter a number: \"))\n",
    "while(X):\n",
    "    if(X > 500):\n",
    "        print(\"Number is greater than 500\")\n",
    "        continue\n",
    "    else:\n",
    "        print(\"Number is well below the margin\")\n",
    "\n",
    "print(\"Opted out of the loop\")"
   ]
  },
  {
   "cell_type": "markdown",
   "metadata": {},
   "source": [
    "## Check whether a number is prime or not"
   ]
  },
  {
   "cell_type": "code",
   "execution_count": 77,
   "metadata": {},
   "outputs": [
    {
     "name": "stdout",
     "output_type": "stream",
     "text": [
      "3 is a prime\n"
     ]
    }
   ],
   "source": [
    "num = int(input(\"Enter a number: \"))\n",
    "for i in range(2,num):\n",
    "    if num % i == 0:\n",
    "        print(f'{num} is not a prime')\n",
    "    print(f'{num} is a prime')\n",
    "\n",
    "\n"
   ]
  },
  {
   "cell_type": "markdown",
   "metadata": {},
   "source": [
    "## Write a program to find the leap year"
   ]
  },
  {
   "cell_type": "code",
   "execution_count": null,
   "metadata": {},
   "outputs": [],
   "source": [
    "year = int(input(\"Enter a year: \"))\n",
    "if(year % 4 == 0) and (year % 100 != 0 or year % 400 == 0):\n",
    "        print(f'{year} is a leap year')"
   ]
  }
 ],
 "metadata": {
  "kernelspec": {
   "display_name": "Python 3",
   "language": "python",
   "name": "python3"
  },
  "language_info": {
   "codemirror_mode": {
    "name": "ipython",
    "version": 3
   },
   "file_extension": ".py",
   "mimetype": "text/x-python",
   "name": "python",
   "nbconvert_exporter": "python",
   "pygments_lexer": "ipython3",
   "version": "3.10.11"
  }
 },
 "nbformat": 4,
 "nbformat_minor": 2
}
