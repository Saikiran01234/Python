{
 "cells": [
  {
   "cell_type": "markdown",
   "id": "fba67e66",
   "metadata": {},
   "source": [
    "## File Handling"
   ]
  },
  {
   "cell_type": "code",
   "execution_count": 1,
   "id": "e3b514a7",
   "metadata": {},
   "outputs": [
    {
     "name": "stdout",
     "output_type": "stream",
     "text": [
      "Current working directory: d:\\LpUAcademics\\Summer Pep\\Python\n"
     ]
    }
   ],
   "source": [
    "import os\n",
    "cwd = os.getcwd()\n",
    "print(\"Current working directory:\", cwd)"
   ]
  },
  {
   "cell_type": "code",
   "execution_count": 5,
   "id": "bfb55fdb",
   "metadata": {},
   "outputs": [
    {
     "name": "stdout",
     "output_type": "stream",
     "text": [
      "Directory 'saikiran' created.\n"
     ]
    }
   ],
   "source": [
    "#creating a new directory\n",
    "import os\n",
    "new_dir = \"saikiran\"\n",
    "os.mkdir(new_dir)\n",
    "print(f\"Directory '{new_dir}' created.\")"
   ]
  },
  {
   "cell_type": "code",
   "execution_count": null,
   "id": "6965540b",
   "metadata": {},
   "outputs": [
    {
     "name": "stdout",
     "output_type": "stream",
     "text": [
      "Files and directories in current directory:\n",
      " ['day2.ipynb', 'day3.ipynb', 'day4.ipynb', 'day5.ipynb', 'day6.ipynb', 'day7.ipynb', 'first1.ipynb', 'new_directory', 'new_directory2', 'saikiran']\n"
     ]
    }
   ],
   "source": [
    "#listing files and directories\n",
    "import os\n",
    "files_and_dirs = os.listdir('.')\n",
    "print(\"Files and directories in current directory: \\n\", files_and_dirs)"
   ]
  },
  {
   "cell_type": "markdown",
   "id": "e260477a",
   "metadata": {},
   "source": [
    "## Read & Write Files"
   ]
  },
  {
   "cell_type": "code",
   "execution_count": null,
   "id": "967d0be7",
   "metadata": {},
   "outputs": [
    {
     "name": "stdout",
     "output_type": "stream",
     "text": [
      "Writing Success\n",
      "Reading file content: 0\n",
      "First 5 characters: Hello\n",
      "Next 3 characters: , W\n"
     ]
    }
   ],
   "source": [
    "f = open(\"saikiran/hello.txt\", \"w\")\n",
    "f.write(\"Hello, World!\")\n",
    "f.write(\"\\nThis is a test file.\")\n",
    "f.write(\"\\nThis file is created using Python.\")\n",
    "f.close()\n",
    "print(\"Writing Success\")\n",
    "\n",
    "#reading a file\n",
    "f = open(\"saikiran/hello.txt\", \"r\")\n",
    "print(\"Reading file content:\", f.tell()) # Current position in the file\n",
    "content = f.read(5)\n",
    "content2 = f.read(3)\n",
    "print(\"First 5 characters:\", content)\n",
    "print(\"Next 3 characters:\", content2)"
   ]
  },
  {
   "cell_type": "code",
   "execution_count": 16,
   "id": "dc53f1cb",
   "metadata": {},
   "outputs": [
    {
     "name": "stdout",
     "output_type": "stream",
     "text": [
      "Reading from hello2.txt:\n",
      "\n",
      "Appending more text to hello2.txt.\n"
     ]
    }
   ],
   "source": [
    "file = open(\"saikiran/hello2.txt\", \"w\")\n",
    "file.write(\"This is another file.\")\n",
    "file.seek(0)  # Move the cursor to the beginning of the file\n",
    "file.write(\"\\nThis is an additional line.\")\n",
    "file.seek(0)  # Move the cursor to the beginning of the file again\n",
    "file.write(\"\\nAppending more text to hello2.txt.\")\n",
    "file.close()\n",
    "file = open(\"saikiran/hello2.txt\", \"r\")\n",
    "print(\"Reading from hello2.txt:\")\n",
    "data = file.read()\n",
    "print(data)\n"
   ]
  },
  {
   "cell_type": "markdown",
   "id": "2596fe18",
   "metadata": {},
   "source": [
    "## Exception Handling"
   ]
  },
  {
   "cell_type": "code",
   "execution_count": 24,
   "id": "c51fe4d4",
   "metadata": {},
   "outputs": [
    {
     "name": "stdout",
     "output_type": "stream",
     "text": [
      "Result: 1.53125\n",
      "Division successful, result is: 1.53125\n"
     ]
    }
   ],
   "source": [
    "a = 49\n",
    "b = 32\n",
    "try:\n",
    "    result = a / b\n",
    "    print(\"Result:\", result)\n",
    "except ZeroDivisionError as e:\n",
    "    print(\"Error: Division by zero is not allowed.\", e)\n",
    "else:\n",
    "    print(\"Division successful, result is:\", result)\n"
   ]
  },
  {
   "cell_type": "code",
   "execution_count": 27,
   "id": "0fcc99a8",
   "metadata": {},
   "outputs": [
    {
     "ename": "AssertionError",
     "evalue": "Invalid value",
     "output_type": "error",
     "traceback": [
      "\u001b[1;31m---------------------------------------------------------------------------\u001b[0m",
      "\u001b[1;31mAssertionError\u001b[0m                            Traceback (most recent call last)",
      "Cell \u001b[1;32mIn[27], line 2\u001b[0m\n\u001b[0;32m      1\u001b[0m a \u001b[38;5;241m=\u001b[39m \u001b[38;5;241m20\u001b[39m\n\u001b[1;32m----> 2\u001b[0m \u001b[38;5;28;01massert\u001b[39;00m a \u001b[38;5;241m<\u001b[39m\u001b[38;5;241m=\u001b[39m \u001b[38;5;241m10\u001b[39m, \u001b[38;5;124m'\u001b[39m\u001b[38;5;124mInvalid value\u001b[39m\u001b[38;5;124m'\u001b[39m\n",
      "\u001b[1;31mAssertionError\u001b[0m: Invalid value"
     ]
    }
   ],
   "source": [
    "a = 20\n",
    "assert a <= 10, 'Invalid value'"
   ]
  }
 ],
 "metadata": {
  "kernelspec": {
   "display_name": "Python 3",
   "language": "python",
   "name": "python3"
  },
  "language_info": {
   "codemirror_mode": {
    "name": "ipython",
    "version": 3
   },
   "file_extension": ".py",
   "mimetype": "text/x-python",
   "name": "python",
   "nbconvert_exporter": "python",
   "pygments_lexer": "ipython3",
   "version": "3.10.11"
  }
 },
 "nbformat": 4,
 "nbformat_minor": 5
}
