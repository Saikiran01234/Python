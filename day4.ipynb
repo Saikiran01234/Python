{
 "cells": [
  {
   "cell_type": "markdown",
   "id": "a8dd2b1b",
   "metadata": {},
   "source": [
    "Program to find LCM"
   ]
  },
  {
   "cell_type": "code",
   "execution_count": 3,
   "id": "4aef1a79",
   "metadata": {},
   "outputs": [
    {
     "name": "stdout",
     "output_type": "stream",
     "text": [
      "LCM for 23 and 245 is 246\n"
     ]
    }
   ],
   "source": [
    "num1 = int(input(\"Num1\"))\n",
    "num2 = int(input(\"Num2\"))\n",
    "\n",
    "greater = 0\n",
    "if num1>num2:\n",
    "    greater = num1\n",
    "else:\n",
    "    greater = num2\n",
    "\n",
    "while True:\n",
    "    if greater % num1 == 0 and greater % num2 == 0:\n",
    "        print(\"LCM is\", greater)\n",
    "        break\n",
    "    greater += 1\n",
    "    print(f'LCM for {num1} and {num2} is {greater}')\n",
    "    break"
   ]
  },
  {
   "cell_type": "markdown",
   "id": "34874f07",
   "metadata": {},
   "source": [
    "Program to find HCF"
   ]
  },
  {
   "cell_type": "code",
   "execution_count": null,
   "id": "cc07608d",
   "metadata": {},
   "outputs": [],
   "source": [
    "num1 = int(input(\"Num1\"))\n",
    "num2 = int(input(\"Num2\"))\n",
    "smaller = 0\n",
    "if num1 < num2:\n",
    "    smaller = num1\n",
    "else:\n",
    "    smaller = num2\n",
    "\n",
    "for i in range(1, smaller)"
   ]
  },
  {
   "cell_type": "markdown",
   "id": "c0f10c1e",
   "metadata": {},
   "source": [
    "## Write a code to find the sum of cubes of n natural numbers"
   ]
  },
  {
   "cell_type": "code",
   "execution_count": null,
   "id": "f1511458",
   "metadata": {},
   "outputs": [],
   "source": [
    "count = int(input(\"Enter the number of elements: \"))\n",
    "sum = 0\n",
    "for i in range(1, count + 1):\n",
    "    "
   ]
  }
 ],
 "metadata": {
  "kernelspec": {
   "display_name": "Python 3",
   "language": "python",
   "name": "python3"
  },
  "language_info": {
   "codemirror_mode": {
    "name": "ipython",
    "version": 3
   },
   "file_extension": ".py",
   "mimetype": "text/x-python",
   "name": "python",
   "nbconvert_exporter": "python",
   "pygments_lexer": "ipython3",
   "version": "3.10.11"
  }
 },
 "nbformat": 4,
 "nbformat_minor": 5
}
