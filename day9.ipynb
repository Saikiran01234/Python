{
 "cells": [
  {
   "cell_type": "code",
   "execution_count": null,
   "id": "567f5d71",
   "metadata": {},
   "outputs": [
    {
     "name": "stdout",
     "output_type": "stream",
     "text": [
      "Test object created\n"
     ]
    }
   ],
   "source": [
    "class Test(object):\n",
    "    def __init__(self):\n",
    "        print(\"Test object created\") #constrctor will be called when an object is created\n",
    "    def m1(self):\n",
    "        print(\"hello world\")\n",
    "\n",
    "x = Test() #x is an instance of Test\n",
    " #. is the attribute access operator"
   ]
  },
  {
   "cell_type": "code",
   "execution_count": null,
   "id": "3ca54a98",
   "metadata": {},
   "outputs": [
    {
     "name": "stdout",
     "output_type": "stream",
     "text": [
      "ATM object created\n",
      "Deposited: 1000.\n",
      "New balance: 1000\n",
      "Withdrew: 500.\n",
      "New balance: 500\n",
      "Current balance: 500\n"
     ]
    }
   ],
   "source": [
    "#write a class with a constructor and 4 methods for ATM withdraw, \n",
    "# deposit, check balance, and database connection\n",
    "class ATM:\n",
    "    def __init__(self):\n",
    "        self.balance = 0\n",
    "        print(\"ATM object created\")\n",
    "    def deposit(self, amount):\n",
    "        self.balance += amount\n",
    "        print(f\"Deposited: {amount}.\\nNew balance: {self.balance}\")\n",
    "    def withdraw(self, amount):\n",
    "        self.balance -= amount\n",
    "        print(f\"Withdrew: {amount}.\\nNew balance: {self.balance}\")\n",
    "    def check_balance(self):\n",
    "        print(f\"Current balance: {self.balance}\")\n",
    "\n",
    "x  = ATM()\n",
    "x.deposit(1000)\n",
    "x.withdraw(500)\n",
    "x.check_balance()\n"
   ]
  },
  {
   "cell_type": "markdown",
   "id": "a7ec57cf",
   "metadata": {},
   "source": [
    "Single - level Inheritance"
   ]
  },
  {
   "cell_type": "code",
   "execution_count": null,
   "id": "4b101421",
   "metadata": {},
   "outputs": [
    {
     "name": "stdout",
     "output_type": "stream",
     "text": [
      "Son's Instance Called\n",
      "Father's Instance Called\n"
     ]
    }
   ],
   "source": [
    "class Father:\n",
    "    def show(self):\n",
    "        print(\"Father's Instance Called\")\n",
    "class Son(Father):\n",
    "    def disp(self):\n",
    "        print(\"Son's Instance Called\")\n",
    "x = Son()\n",
    "x.disp()\n",
    "x.show() \n"
   ]
  },
  {
   "cell_type": "code",
   "execution_count": 10,
   "id": "d48f75e6",
   "metadata": {},
   "outputs": [
    {
     "name": "stdout",
     "output_type": "stream",
     "text": [
      "Son's Instance Called\n",
      "Father's Instance Called\n",
      "Grandfather's Instance Called\n"
     ]
    }
   ],
   "source": [
    "#Multiple Inheritance\n",
    "class Grandfather:\n",
    "    def display(self):\n",
    "        print(\"Grandfather's Instance Called\")\n",
    "class Father(Grandfather):\n",
    "    def disp(self):\n",
    "        print(\"Father's Instance Called\")\n",
    "class Son(Father):\n",
    "    def show(self):\n",
    "        print(\"Son's Instance Called\")\n",
    "x = Son()\n",
    "x.show()  # This will call the Son's show method\n",
    "x.disp()  # This will call the Father's disp method\n",
    "x.display()  # This will call the Grandfather's display method\n",
    "\n"
   ]
  },
  {
   "cell_type": "code",
   "execution_count": 12,
   "id": "69f2a7a3",
   "metadata": {},
   "outputs": [
    {
     "name": "stdout",
     "output_type": "stream",
     "text": [
      "C's m3 method called\n",
      "B's m2 method called\n",
      "A's m1 method called\n"
     ]
    }
   ],
   "source": [
    "#multiple inheritance\n",
    "class A:\n",
    "    def m1(self):\n",
    "        print(\"A's m1 method called\")\n",
    "class B:\n",
    "    def m2(self):\n",
    "        print(\"B's m2 method called\")\n",
    "class C(A, B):\n",
    "    def m3(self):\n",
    "        print(\"C's m3 method called\")\n",
    "\n",
    "x = C()\n",
    "x.m3()\n",
    "x.m2()  \n",
    "x.m1()  \n"
   ]
  },
  {
   "cell_type": "code",
   "execution_count": 23,
   "id": "dabb16a1",
   "metadata": {},
   "outputs": [
    {
     "name": "stdout",
     "output_type": "stream",
     "text": [
      "1\n",
      "[2, 3, 4]\n",
      "[1, 10, 3, 4, 5, 'python', 6.7, True, 8]\n",
      "[1, 10, 3, 4, 5, 'python', 6.7, True]\n",
      "[1, 3, 4, 5, 'python', 6.7, True]\n",
      "2209375269696\n"
     ]
    }
   ],
   "source": [
    "list = [1, 2, 3, 4, 5, 'python', 6.7, True]\n",
    "print(list[0])\n",
    "print(list[1:4])\n",
    "list.append(8)\n",
    "list [1] = 10\n",
    "print(list)\n",
    "list.pop()\n",
    "print(list)\n",
    "list.remove(10)\n",
    "print(list)\n",
    "print(id(list))\n",
    "\n"
   ]
  },
  {
   "cell_type": "code",
   "execution_count": 22,
   "id": "d0e4f9d5",
   "metadata": {},
   "outputs": [
    {
     "name": "stdout",
     "output_type": "stream",
     "text": [
      "{1, 2, 3, 4, 5, 6, 7, 8}\n",
      "{4, 5}\n"
     ]
    }
   ],
   "source": [
    "set1 = {1, 2, 3, 4, 5}\n",
    "set2 = {4, 5, 6, 7, 8}\n",
    "set3 = set1.union(set2)\n",
    "print(set3)\n",
    "set4 = set1.intersection(set2)\n",
    "print(set4)"
   ]
  },
  {
   "cell_type": "code",
   "execution_count": null,
   "id": "d0da7a7d",
   "metadata": {},
   "outputs": [
    {
     "name": "stdout",
     "output_type": "stream",
     "text": [
      "John\n",
      "{'name': 'John', 'age': 31, 'city': 'New York', 101: 'Python'}\n",
      "{'name': 'John', 'age': 31, 'city': 'New York', 101: 'Python', 'country': 'USA'}\n",
      "{'name': 'John', 'age': 31, 101: 'Python', 'country': 'USA'}\n",
      "{'name': 'John', 'age': 31, 101: 'Python', 'country': 'USA', 'hobby': 'reading'}\n"
     ]
    }
   ],
   "source": [
    "dict1 = {'name': 'John', 'age': 30, 'city': 'New York', 101: 'Python'}\n",
    "print(dict1['name'])\n",
    "dict1['age'] = 31\n",
    "print(dict1)\n",
    "dict1['country'] = 'USA'\n",
    "print(dict1)\n",
    "dict1.pop('city')\n",
    "print(dict1)\n",
    "dict1.update({'hobby': 'reading'})\n",
    "print(dict1)\n",
    "\n",
    "\n"
   ]
  },
  {
   "cell_type": "code",
   "execution_count": null,
   "id": "dca56f54",
   "metadata": {},
   "outputs": [
    {
     "name": "stdout",
     "output_type": "stream",
     "text": [
      "\n",
      "ATM Application\n",
      "1. Create User\n",
      "2. Deposit\n",
      "3. Raise Salary\n",
      "4. Withdraw\n",
      "5. Exit\n",
      "Invalid designation. Please try again.\n",
      "\n",
      "ATM Application\n",
      "1. Create User\n",
      "2. Deposit\n",
      "3. Raise Salary\n",
      "4. Withdraw\n",
      "5. Exit\n",
      "User created: {'name': 'Sai Kiran', 'age': 22, 'designation': 'programmer', 'salary': 25000}\n",
      "\n",
      "ATM Application\n",
      "1. Create User\n",
      "2. Deposit\n",
      "3. Raise Salary\n",
      "4. Withdraw\n",
      "5. Exit\n",
      "Deposited: 25000. New balance: 25000\n",
      "\n",
      "ATM Application\n",
      "1. Create User\n",
      "2. Deposit\n",
      "3. Raise Salary\n",
      "4. Withdraw\n",
      "5. Exit\n",
      "Exiting the application. Thank you!\n"
     ]
    }
   ],
   "source": [
    "# ATM Application with methods for create, deposit, withdraw, check balance, raise salary, and exit\n",
    "class ATM:\n",
    "    def __init__(self):\n",
    "        self.balance = 0\n",
    "        self.user = None\n",
    "\n",
    "    def create_user(self):\n",
    "        name = input(\"Enter your name: \")\n",
    "        age = int(input(\"Enter your age: \"))\n",
    "        designation = input(\"Enter your designation (Programmer/Manager/Tester): \").lower()\n",
    "        \n",
    "        if designation == 'programmer':\n",
    "            salary = 25000\n",
    "        elif designation == 'manager':\n",
    "            salary = 20000\n",
    "        elif designation == 'tester':\n",
    "            salary = 15000\n",
    "        else:\n",
    "            print(\"Invalid designation. Please try again.\")\n",
    "            return\n",
    "        \n",
    "        self.user = {'name': name, 'age': age, 'designation': designation, 'salary': salary}\n",
    "        print(f\"User created: {self.user}\")\n",
    "\n",
    "    def deposit(self, amount):\n",
    "        self.balance += amount\n",
    "        print(f\"Deposited: {amount}. New balance: {self.balance}\")\n",
    "\n",
    "    def withdraw(self, amount):\n",
    "        if amount > self.balance:\n",
    "            print(\"Insufficient balance.\")\n",
    "        else:\n",
    "            self.balance -= amount\n",
    "            print(f\"Withdrew: {amount}. New balance: {self.balance}\")\n",
    "\n",
    "    def check_balance(self):\n",
    "        print(f\"Current balance: {self.balance}\")\n",
    "\n",
    "    def raise_salary(self):\n",
    "        if self.user:\n",
    "            raise_amount = int(input(\"Enter the amount to raise salary: \"))\n",
    "            self.user['salary'] += raise_amount\n",
    "            print(f\"New salary for {self.user['name']}: {self.user['salary']}\")\n",
    "        else:\n",
    "            print(\"No user found. Please create a user first.\")\n",
    "\n",
    "    def exit_application(self):\n",
    "        print(\"Exiting the application. Thank you!\")\n",
    "    def run(self):\n",
    "        while True:\n",
    "            print(\"\\nATM Application\")\n",
    "            print(\"1. Create User\")\n",
    "            print(\"2. Deposit\")\n",
    "            print(\"3. Raise Salary\")\n",
    "            print(\"4. Withdraw\")\n",
    "            print(\"5. Check Balance\")\n",
    "            print(\"6. Exit\")\n",
    "            \n",
    "            choice = input(\"Enter your choice: \")\n",
    "\n",
    "            if choice == '1':\n",
    "                self.create_user()\n",
    "            elif choice == '2':\n",
    "                amount = int(input(\"Enter amount to deposit: \"))\n",
    "                self.deposit(amount)\n",
    "            elif choice == '3':\n",
    "                self.raise_salary()\n",
    "            elif choice == '4':\n",
    "                amount = int(input(\"Enter amount to withdraw: \"))\n",
    "                self.withdraw(amount)\n",
    "            elif choice == '5':\n",
    "                self.check_balance()\n",
    "            elif choice == '6':\n",
    "                self.exit_application()\n",
    "                break\n",
    "            else:\n",
    "                print(\"Invalid choice. Please try again.\")\n",
    "\n",
    "\n",
    "atm = ATM()\n",
    "atm.run()\n",
    "\n",
    "            \n",
    "           "
   ]
  },
  {
   "cell_type": "code",
   "execution_count": null,
   "id": "c19ae637",
   "metadata": {},
   "outputs": [],
   "source": []
  }
 ],
 "metadata": {
  "kernelspec": {
   "display_name": "Python 3",
   "language": "python",
   "name": "python3"
  },
  "language_info": {
   "codemirror_mode": {
    "name": "ipython",
    "version": 3
   },
   "file_extension": ".py",
   "mimetype": "text/x-python",
   "name": "python",
   "nbconvert_exporter": "python",
   "pygments_lexer": "ipython3",
   "version": "3.10.11"
  }
 },
 "nbformat": 4,
 "nbformat_minor": 5
}
