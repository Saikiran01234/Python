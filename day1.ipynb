{
 "cells": [
  {
   "cell_type": "code",
   "execution_count": 1,
   "id": "7f2254b6",
   "metadata": {},
   "outputs": [
    {
     "name": "stdout",
     "output_type": "stream",
     "text": [
      "hello world\n"
     ]
    }
   ],
   "source": [
    "print(\"hello world\")"
   ]
  },
  {
   "cell_type": "code",
   "execution_count": 2,
   "id": "3185c2d9",
   "metadata": {},
   "outputs": [],
   "source": [
    "a = 1"
   ]
  },
  {
   "cell_type": "code",
   "execution_count": 3,
   "id": "d33f2c47",
   "metadata": {},
   "outputs": [
    {
     "data": {
      "text/plain": [
       "int"
      ]
     },
     "execution_count": 3,
     "metadata": {},
     "output_type": "execute_result"
    }
   ],
   "source": [
    "type(a)"
   ]
  },
  {
   "cell_type": "code",
   "execution_count": 4,
   "id": "61411712",
   "metadata": {},
   "outputs": [
    {
     "name": "stdout",
     "output_type": "stream",
     "text": [
      "Vikas\n",
      "<class 'str'>\n",
      "2\n",
      "<class 'int'>\n"
     ]
    }
   ],
   "source": [
    "b = \"Vikas\"\n",
    "print(b)\n",
    "print(type(b))\n",
    "b = 2\n",
    "print(b)\n",
    "print(type(b))"
   ]
  },
  {
   "cell_type": "markdown",
   "id": "52a04385",
   "metadata": {},
   "source": [
    "## Python can change the datatype based on the user requirements. It can overwrite the variable type. The variable's memory can be reused in python."
   ]
  },
  {
   "cell_type": "code",
   "execution_count": 5,
   "id": "5e70b7a7",
   "metadata": {},
   "outputs": [
    {
     "name": "stdout",
     "output_type": "stream",
     "text": [
      "<class 'float'>\n"
     ]
    }
   ],
   "source": [
    "a = 2.0\n",
    "print(type(a))"
   ]
  },
  {
   "cell_type": "code",
   "execution_count": 6,
   "id": "66d91665",
   "metadata": {},
   "outputs": [
    {
     "name": "stdout",
     "output_type": "stream",
     "text": [
      "Sai Kiran\n",
      "Sai Kiran\n"
     ]
    }
   ],
   "source": [
    "a = \"Sai\"\n",
    "b = \"Kiran\"\n",
    "print(a, b)\n",
    "\n",
    "a = \"Sai\"\n",
    "b = \"Kiran\"\n",
    "print(a +' ' +b)"
   ]
  },
  {
   "cell_type": "markdown",
   "id": "fafb9437",
   "metadata": {},
   "source": [
    "## If we want space between two strings, then we can use , operator. But if we use + then we have to explicitly give space in one of the strings."
   ]
  },
  {
   "cell_type": "code",
   "execution_count": 7,
   "id": "951a9f16",
   "metadata": {},
   "outputs": [
    {
     "name": "stdout",
     "output_type": "stream",
     "text": [
      "3\n"
     ]
    }
   ],
   "source": [
    "a = 6 // 2 #gives the quotient part\n",
    "print(a)"
   ]
  },
  {
   "cell_type": "code",
   "execution_count": 8,
   "id": "1f1ba7af",
   "metadata": {},
   "outputs": [
    {
     "name": "stdout",
     "output_type": "stream",
     "text": [
      "True\n"
     ]
    }
   ],
   "source": [
    "#Comparision Operators\n",
    "a = 7\n",
    "b = 18\n",
    "print ((a < b))"
   ]
  },
  {
   "cell_type": "markdown",
   "id": "76b75a23",
   "metadata": {},
   "source": [
    "## Write a Python program to find the area of a triangle."
   ]
  },
  {
   "cell_type": "code",
   "execution_count": 13,
   "id": "d3288ea1",
   "metadata": {},
   "outputs": [
    {
     "name": "stdout",
     "output_type": "stream",
     "text": [
      "5.0\n"
     ]
    }
   ],
   "source": [
    "base = input(\"base of a triangle: \")\n",
    "height = input(\"height of a triangle: \")\n",
    "area = 0.5 * float(base) * float(height)\n",
    "print(area)"
   ]
  },
  {
   "cell_type": "markdown",
   "id": "69618d19",
   "metadata": {},
   "source": [
    "## Write a program to swap two variables"
   ]
  },
  {
   "cell_type": "code",
   "execution_count": null,
   "id": "b239d3e0",
   "metadata": {},
   "outputs": [
    {
     "name": "stdout",
     "output_type": "stream",
     "text": [
      "2 1\n"
     ]
    }
   ],
   "source": [
    "a = 1\n",
    "b = 2\n",
    "a, b = b, a #we can swap in one line only in python!\n",
    "print(a, b)"
   ]
  },
  {
   "cell_type": "markdown",
   "id": "0f118830",
   "metadata": {},
   "source": [
    "## Write a program to convert cm to foot"
   ]
  },
  {
   "cell_type": "code",
   "execution_count": null,
   "id": "bfcdfb5b",
   "metadata": {},
   "outputs": [
    {
     "name": "stdout",
     "output_type": "stream",
     "text": [
      "1.0\n"
     ]
    }
   ],
   "source": [
    "a = float(input(\"in cms: \"))\n",
    "foot = a / 30.48\n",
    "print(foot)"
   ]
  },
  {
   "cell_type": "markdown",
   "id": "e1972b26",
   "metadata": {},
   "source": [
    "## Write a program to find the first 20 Fibonacci Numbers"
   ]
  },
  {
   "cell_type": "code",
   "execution_count": null,
   "id": "04f9f671",
   "metadata": {},
   "outputs": [
    {
     "name": "stdout",
     "output_type": "stream",
     "text": [
      "1\n",
      "2\n",
      "3\n",
      "5\n",
      "8\n",
      "13\n",
      "21\n"
     ]
    }
   ],
   "source": [
    "a = 0\n",
    "b = 1\n",
    "while(a <= 20):\n",
    "    c = a + b\n",
    "    print(c)\n",
    "    a = b\n",
    "    b = c\n",
    "    c = c+1\n"
   ]
  }
 ],
 "metadata": {
  "kernelspec": {
   "display_name": "Python 3",
   "language": "python",
   "name": "python3"
  },
  "language_info": {
   "codemirror_mode": {
    "name": "ipython",
    "version": 3
   },
   "file_extension": ".py",
   "mimetype": "text/x-python",
   "name": "python",
   "nbconvert_exporter": "python",
   "pygments_lexer": "ipython3",
   "version": "3.10.11"
  }
 },
 "nbformat": 4,
 "nbformat_minor": 5
}
