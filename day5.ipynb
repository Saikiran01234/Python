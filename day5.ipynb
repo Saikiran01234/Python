{
 "cells": [
  {
   "cell_type": "markdown",
   "id": "fc9b82f1",
   "metadata": {},
   "source": [
    "Functions"
   ]
  },
  {
   "cell_type": "code",
   "execution_count": 6,
   "id": "3b3d1e7f",
   "metadata": {},
   "outputs": [
    {
     "data": {
      "text/plain": [
       "12"
      ]
     },
     "execution_count": 6,
     "metadata": {},
     "output_type": "execute_result"
    }
   ],
   "source": [
    "def myFirstFunction(z, x ):\n",
    "    sum = z + x\n",
    "    return sum\n",
    "\n",
    "myFirstFunction(z = 6,x = 6,)"
   ]
  },
  {
   "cell_type": "code",
   "execution_count": 11,
   "id": "67b68a66",
   "metadata": {},
   "outputs": [
    {
     "name": "stdout",
     "output_type": "stream",
     "text": [
      "Hello\n",
      "Hello, World!\n"
     ]
    }
   ],
   "source": [
    "def disp():\n",
    "    print(\"Hello\")\n",
    "    def show():\n",
    "        print(\"Hello, World!\")\n",
    "    show()\n",
    "disp()\n"
   ]
  },
  {
   "cell_type": "code",
   "execution_count": 12,
   "id": "0ee2df6a",
   "metadata": {},
   "outputs": [
    {
     "name": "stdout",
     "output_type": "stream",
     "text": [
      "<class 'function'>\n",
      "Disp FunctionShow Function\n"
     ]
    }
   ],
   "source": [
    "def disp(sh):\n",
    "    print(type(sh))\n",
    "    print(\"Disp Function\" + sh())\n",
    "\n",
    "def show():\n",
    "    return \"Show Function\"\n",
    "\n",
    "disp(show)\n",
    "    "
   ]
  },
  {
   "cell_type": "code",
   "execution_count": 13,
   "id": "0454480f",
   "metadata": {},
   "outputs": [
    {
     "name": "stdout",
     "output_type": "stream",
     "text": [
      "John is a good guy\n",
      "Doe is a good guy\n",
      "Alice is a good guy\n"
     ]
    }
   ],
   "source": [
    "def myfunc(name):\n",
    "    print(name + \" is a good guy\")\n",
    "\n",
    "myfunc(\"John\")\n",
    "myfunc(\"Doe\")\n",
    "myfunc(\"Alice\")"
   ]
  },
  {
   "cell_type": "code",
   "execution_count": 19,
   "id": "79a23a86",
   "metadata": {},
   "outputs": [
    {
     "data": {
      "text/plain": [
       "25"
      ]
     },
     "execution_count": 19,
     "metadata": {},
     "output_type": "execute_result"
    }
   ],
   "source": [
    "def func(*num):\n",
    "    sum = num[0] * num[2] * num[3]\n",
    "    return sum\n",
    "func(1, 2, 5, 5)"
   ]
  },
  {
   "cell_type": "code",
   "execution_count": 20,
   "id": "6aa753b3",
   "metadata": {},
   "outputs": [
    {
     "data": {
      "text/plain": [
       "6"
      ]
     },
     "execution_count": 20,
     "metadata": {},
     "output_type": "execute_result"
    }
   ],
   "source": [
    "def func2(**num):\n",
    "    sum = num['a'] + num['b'] + num['c']\n",
    "    return sum\n",
    "func2(a = 1, b = 2, c = 3)"
   ]
  },
  {
   "cell_type": "code",
   "execution_count": 21,
   "id": "9a3069c5",
   "metadata": {},
   "outputs": [
    {
     "data": {
      "text/plain": [
       "8"
      ]
     },
     "execution_count": 21,
     "metadata": {},
     "output_type": "execute_result"
    }
   ],
   "source": [
    "def func3(*num, **kwargs):\n",
    "    sum =  num[0] + kwargs['a'] + kwargs['b']\n",
    "    return sum\n",
    "func3(1, a = 3, b = 4)"
   ]
  },
  {
   "cell_type": "code",
   "execution_count": 25,
   "id": "a622def3",
   "metadata": {},
   "outputs": [
    {
     "data": {
      "text/plain": [
       "10"
      ]
     },
     "execution_count": 25,
     "metadata": {},
     "output_type": "execute_result"
    }
   ],
   "source": [
    "def plus(x,y):\n",
    "    sum = x + y\n",
    "    return sum\n",
    "def minus(x,y):\n",
    "    diff = x - y\n",
    "    return diff\n",
    "def func4(a,b):\n",
    "    sum = plus(a, b) + minus(a, b)\n",
    "    return sum\n",
    "func4(a = 5, b = 10)\n"
   ]
  },
  {
   "cell_type": "code",
   "execution_count": 27,
   "id": "6d210df0",
   "metadata": {},
   "outputs": [
    {
     "name": "stdout",
     "output_type": "stream",
     "text": [
      "Hello, World\n",
      "15\n"
     ]
    }
   ],
   "source": [
    "#anonymous function\n",
    "#example with 1 argument\n",
    "show  = lambda x : print(\"Hello, \" + x)\n",
    "show(\"World\")\n",
    "\n",
    "#example with 2 arguments\n",
    "add = lambda x, y : x + y\n",
    "print(add(5, 10))"
   ]
  },
  {
   "cell_type": "code",
   "execution_count": 28,
   "id": "f9f311ac",
   "metadata": {},
   "outputs": [],
   "source": [
    "def isPrime(X):\n",
    "    for i in range(2, X):\n",
    "        if X % i == 0:\n",
    "            return f\"{X} is not a prime number\"\n",
    "            break\n",
    "    return f\"{X} is a prime number\""
   ]
  }
 ],
 "metadata": {
  "kernelspec": {
   "display_name": "Python 3",
   "language": "python",
   "name": "python3"
  },
  "language_info": {
   "codemirror_mode": {
    "name": "ipython",
    "version": 3
   },
   "file_extension": ".py",
   "mimetype": "text/x-python",
   "name": "python",
   "nbconvert_exporter": "python",
   "pygments_lexer": "ipython3",
   "version": "3.10.11"
  }
 },
 "nbformat": 4,
 "nbformat_minor": 5
}
