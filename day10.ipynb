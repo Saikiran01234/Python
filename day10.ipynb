{
 "cells": [
  {
   "cell_type": "markdown",
   "id": "1faa82dc",
   "metadata": {},
   "source": [
    "## Exception Handling"
   ]
  },
  {
   "cell_type": "code",
   "execution_count": null,
   "id": "3c325d87",
   "metadata": {},
   "outputs": [
    {
     "name": "stdout",
     "output_type": "stream",
     "text": [
      "You cannot divide by zero\n",
      "Rest of the code...\n"
     ]
    }
   ],
   "source": [
    "a = int(input(\"Enter a number: \"))\n",
    "b = int(input(\"Enter another number: \"))\n",
    "try:\n",
    "    c = a/b\n",
    "    print(\"Inside try block\")\n",
    "except ZeroDivisionError:\n",
    "    print(\"You cannot divide by zero\")\n",
    "\n",
    "print(\"Rest of the code...\")"
   ]
  },
  {
   "cell_type": "markdown",
   "id": "c4b296d9",
   "metadata": {},
   "source": [
    "TryExceptElse"
   ]
  },
  {
   "cell_type": "code",
   "execution_count": null,
   "id": "67b52a0a",
   "metadata": {},
   "outputs": [],
   "source": [
    "a = int(input(\"Enter a number: \"))\n",
    "b = int(input(\"Enter another number: \"))\n",
    "try:\n",
    "    c = a/b\n",
    "    print(\"Inside try block\")\n",
    "except ZeroDivisionError:\n",
    "    print(\"You cannot divide by zero\")\n",
    "else:\n",
    "    print(\"Division successful. Result is \", c )\n",
    "\n",
    "print(\"Rest of the code...\")"
   ]
  },
  {
   "cell_type": "code",
   "execution_count": null,
   "id": "3bac9e7c",
   "metadata": {},
   "outputs": [],
   "source": [
    "#Finally Block\n",
    "a = int(input(\"Enter a number: \"))\n",
    "b = int(input(\"Enter another number: \"))\n",
    "try:\n",
    "    c = a/b\n",
    "    print(\"Inside try block\")\n",
    "except ZeroDivisionError:\n",
    "    print(\"You cannot divide by zero\")\n",
    "else:\n",
    "    print(\"Division successful. Result is \", c )\n",
    "finally:\n",
    "    print(\"This block always executes\")\n",
    "    \n",
    "print(\"Rest of the code...\")"
   ]
  },
  {
   "cell_type": "code",
   "execution_count": 16,
   "id": "fae8ef93",
   "metadata": {},
   "outputs": [
    {
     "name": "stdout",
     "output_type": "stream",
     "text": [
      "An error occurred: name 'e' is not defined\n",
      "Rest of the code...\n"
     ]
    }
   ],
   "source": [
    "a = 10\n",
    "b = 0\n",
    "\n",
    "try:\n",
    "    c = a/e\n",
    "    print(\"Inside try block\")\n",
    "except (ZeroDivisionError, NameError) as e:\n",
    "    print(\"An error occurred:\", e)\n",
    "\n",
    "print(\"Rest of the code...\")"
   ]
  },
  {
   "cell_type": "code",
   "execution_count": 26,
   "id": "c1af7ac0",
   "metadata": {},
   "outputs": [
    {
     "name": "stdout",
     "output_type": "stream",
     "text": [
      "Your age is not a valid age for marriage. Age is 11\n"
     ]
    }
   ],
   "source": [
    "class TooYoungException(Exception):\n",
    "    def __init__(self, arg):\n",
    "        self.msg = arg\n",
    "class TooOldException(Exception):\n",
    "    def __init__(self, arg):\n",
    "        self.msg = arg\n",
    "age = int(input(\"Enter your age: \"))\n",
    "try:\n",
    "    if age < 18:\n",
    "        raise TooYoungException(\"Please wait until you get the best match\")\n",
    "    elif age > 35:\n",
    "        raise TooOldException(\"You already crossed marriage age\")\n",
    "    else:\n",
    "        print(\"You are eligible to marriage!\")\n",
    "\n",
    "except (TooYoungException, TooOldException):\n",
    "    print(\"Your age is not a valid age for marriage. Age is\", age)       "
   ]
  },
  {
   "cell_type": "markdown",
   "id": "1e53f0bc",
   "metadata": {},
   "source": [
    "File Handling"
   ]
  },
  {
   "cell_type": "code",
   "execution_count": 28,
   "id": "cd88d4b5",
   "metadata": {},
   "outputs": [
    {
     "name": "stdout",
     "output_type": "stream",
     "text": [
      "Writing success\n",
      "Hello, this is a test file.\n",
      "Writing something\n",
      "\n"
     ]
    }
   ],
   "source": [
    "file = open(\"saikiran/Student.txt\", \"w\")\n",
    "file.write(\"Hello, this is a test file.\\n\")\n",
    "file.write(\"Writing something\\n\")\n",
    "file.close()\n",
    "print(\"Writing success\")\n",
    "\n",
    "\n",
    "file = open(\"saikiran/Student.txt\", \"r\")\n",
    "data = file.read()\n",
    "print(data)\n",
    "file.close()"
   ]
  },
  {
   "cell_type": "code",
   "execution_count": null,
   "id": "e79a0df8",
   "metadata": {},
   "outputs": [
    {
     "name": "stdout",
     "output_type": "stream",
     "text": [
      "Information saved successfully!\n"
     ]
    }
   ],
   "source": [
    "name = input(\"Enter your name: \")\n",
    "age = input(\"Enter your age: \")\n",
    "\n",
    "\n",
    "with open(\"saikiran/name.txt\", \"a\") as file:\n",
    "    file.write(f\"Name: {name}, Age: {age}\\n\")\n",
    "\n",
    "print(\"Information saved successfully!\")\n"
   ]
  },
  {
   "cell_type": "code",
   "execution_count": null,
   "id": "667a524c",
   "metadata": {},
   "outputs": [],
   "source": []
  }
 ],
 "metadata": {
  "kernelspec": {
   "display_name": "Python 3",
   "language": "python",
   "name": "python3"
  },
  "language_info": {
   "codemirror_mode": {
    "name": "ipython",
    "version": 3
   },
   "file_extension": ".py",
   "mimetype": "text/x-python",
   "name": "python",
   "nbconvert_exporter": "python",
   "pygments_lexer": "ipython3",
   "version": "3.10.11"
  }
 },
 "nbformat": 4,
 "nbformat_minor": 5
}
