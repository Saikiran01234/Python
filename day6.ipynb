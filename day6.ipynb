{
 "cells": [
  {
   "cell_type": "markdown",
   "id": "00693b27",
   "metadata": {},
   "source": [
    "OOPs in Python"
   ]
  },
  {
   "cell_type": "code",
   "execution_count": 14,
   "id": "fcfec6b6",
   "metadata": {},
   "outputs": [
    {
     "name": "stdout",
     "output_type": "stream",
     "text": [
      "Model:  Nokia \n",
      "Price:  15000\n"
     ]
    }
   ],
   "source": [
    "class Mobile():\n",
    "    def __init__(self, m):\n",
    "        self.model = m\n",
    "\n",
    "    def display(self, p):\n",
    "        price = p\n",
    "        print(\"Model: \", self.model, \"\\nPrice: \", price)\n",
    " \n",
    "\n",
    "realme = Mobile(\"Realme\")\n",
    "realme.model = \"Nokia\"\n",
    "realme.display(15000)\n",
    "    "
   ]
  },
  {
   "cell_type": "code",
   "execution_count": 5,
   "id": "ce4b1f77",
   "metadata": {},
   "outputs": [
    {
     "data": {
      "text/plain": [
       "300"
      ]
     },
     "execution_count": 5,
     "metadata": {},
     "output_type": "execute_result"
    }
   ],
   "source": [
    "class maths():\n",
    "    def __init__ (self, num1, num2):\n",
    "        self.num1 = num1\n",
    "        self.num2 = num2\n",
    "    def add(self):\n",
    "        return self.num1 + self.num2\n",
    "    \n",
    "x = maths(100,200)\n",
    "x.add()\n",
    "\n"
   ]
  },
  {
   "cell_type": "code",
   "execution_count": null,
   "id": "5d4f7f73",
   "metadata": {},
   "outputs": [
    {
     "name": "stdout",
     "output_type": "stream",
     "text": [
      "Model:  Realme \n",
      "Price:  15000\n"
     ]
    },
    {
     "ename": "TypeError",
     "evalue": "'Mobile' object is not callable",
     "output_type": "error",
     "traceback": [
      "\u001b[1;31m---------------------------------------------------------------------------\u001b[0m",
      "\u001b[1;31mTypeError\u001b[0m                                 Traceback (most recent call last)",
      "Cell \u001b[1;32mIn[15], line 10\u001b[0m\n\u001b[0;32m      8\u001b[0m realme \u001b[38;5;241m=\u001b[39m Mobile(\u001b[38;5;124m\"\u001b[39m\u001b[38;5;124mRealme\u001b[39m\u001b[38;5;124m\"\u001b[39m)\n\u001b[0;32m      9\u001b[0m realme\u001b[38;5;241m.\u001b[39mdisplay(\u001b[38;5;241m15000\u001b[39m)\n\u001b[1;32m---> 10\u001b[0m \u001b[43mrealme\u001b[49m\u001b[43m(\u001b[49m\u001b[38;5;28;43mid\u001b[39;49m\u001b[43m(\u001b[49m\u001b[38;5;124;43m\"\u001b[39;49m\u001b[38;5;124;43mRealme\u001b[39;49m\u001b[38;5;124;43m\"\u001b[39;49m\u001b[43m)\u001b[49m\u001b[43m)\u001b[49m\n",
      "\u001b[1;31mTypeError\u001b[0m: 'Mobile' object is not callable"
     ]
    }
   ],
   "source": [
    "class Mobile():\n",
    "    def __init__(self, m):\n",
    "        self.model = m\n",
    "    def display(self, p):\n",
    "        price = p\n",
    "        print(\"Model: \", self.model, \"\\nPrice: \", price)\n",
    "\n",
    "realme = Mobile(\"Realme\")\n",
    "realme.display(15000)\n",
    "realme.id()"
   ]
  },
  {
   "cell_type": "code",
   "execution_count": 17,
   "id": "494d700a",
   "metadata": {},
   "outputs": [
    {
     "name": "stdout",
     "output_type": "stream",
     "text": [
      "Model:  Realme \n",
      "Price:  15000 \n",
      "Volume:  800\n"
     ]
    }
   ],
   "source": [
    "class Mobile:\n",
    "    def __init__(self, m, v = 800):\n",
    "        self.model = m\n",
    "        self.volume = v\n",
    "    def display(self, p):\n",
    "        price = p\n",
    "        print(\"Model: \", self.model, \"\\nPrice: \", price, \"\\nVolume: \", self.volume)\n",
    "\n",
    "realme = Mobile(\"Realme\")\n",
    "realme.display(15000)"
   ]
  },
  {
   "cell_type": "markdown",
   "id": "e5794726",
   "metadata": {},
   "source": [
    "## Encapsulation"
   ]
  },
  {
   "cell_type": "code",
   "execution_count": null,
   "id": "26711790",
   "metadata": {},
   "outputs": [
    {
     "name": "stdout",
     "output_type": "stream",
     "text": [
      "100\n",
      "200\n",
      "300\n"
     ]
    }
   ],
   "source": [
    "class maths():\n",
    "    def __init__(self, num1, num2, num3):\n",
    "        self.num1 = num1\n",
    "        self._num2 = num2\n",
    "        self.__num3 = num3\n",
    "\n",
    "    def set_num3(self):\n",
    "        self.__num3 = num3\n",
    "    def get_num3(self):\n",
    "        return self.__num3\n",
    "\n",
    "    def add(self):\n",
    "        return self.num1 + self._num2\n",
    "    \n",
    "x = maths(100, 200, 300)\n",
    "print(x.num1)\n",
    "print(x._num2)\n",
    "#print(x.__num3)  # This will raise an AttributeError as num3 is private\n",
    "x.get_num3()\n",
    "\n",
    "x.num3 = 400  # This will not change the private variable\n",
    "\n",
    "print(x.get_num3())  # This will return the original value of num3"
   ]
  },
  {
   "cell_type": "markdown",
   "id": "9d574d77",
   "metadata": {},
   "source": [
    "## Inner Class "
   ]
  },
  {
   "cell_type": "code",
   "execution_count": null,
   "id": "cf79d8ba",
   "metadata": {},
   "outputs": [
    {
     "name": "stdout",
     "output_type": "stream",
     "text": [
      "Sai Kiran\n"
     ]
    }
   ],
   "source": [
    "class Array:\n",
    "    def __init__(self):\n",
    "        self.name = \"Sai Kiran\"\n",
    "        self.gn = self.Gun()\n",
    "    def show(self):\n",
    "        print(\"Name: \", self.name)\n",
    "    class Gun:\n",
    "        def __init__(self):\n",
    "            self.gun = \"AK47\"\n",
    "            self.capacity = 30\n",
    "            self.length = '34.5 inches'\n",
    "        def display(self):\n",
    "            print(\"Gun: \", self.gun)\n",
    "            print(\"Capacity: \", self.capacity)\n",
    "            print(\"Length: \", self.length)\n",
    "\n",
    "a = Array()\n",
    "print(a.name)\n"
   ]
  },
  {
   "cell_type": "code",
   "execution_count": 42,
   "id": "70b03109",
   "metadata": {},
   "outputs": [
    {
     "name": "stdout",
     "output_type": "stream",
     "text": [
      "30\n",
      "Child class instance called\n",
      "Parent class instance method called\n",
      "Parent class' class method called 1000\n",
      "Parent class static method called 10\n"
     ]
    }
   ],
   "source": [
    "class Father:\n",
    "    money = 1000\n",
    "\n",
    "    def show(self):\n",
    "        print(\"Parent class instance method called\")\n",
    "\n",
    "    @classmethod\n",
    "    def showmoney(cls):\n",
    "        print(\"Parent class' class method called\", cls.money)\n",
    "\n",
    "    @staticmethod\n",
    "    def stat():\n",
    "        a = 10\n",
    "        print(\"Parent class static method called\", a)\n",
    "\n",
    "class Son(Father):\n",
    "    def display(self):\n",
    "        print(\"Child class instance called\")\n",
    "    def add(self, num1, num2):\n",
    "        self.num1 = num1\n",
    "        self.num2 = num2\n",
    "        print(num1 + num2)\n",
    "\n",
    "s = Son()\n",
    "s.add(10, 20)\n",
    "s.display()\n",
    "s.show()\n",
    "s.showmoney()\n",
    "s.stat()\n"
   ]
  },
  {
   "cell_type": "markdown",
   "id": "453d833d",
   "metadata": {},
   "source": [
    "## Multi-level Inheritance"
   ]
  },
  {
   "cell_type": "code",
   "execution_count": null,
   "id": "2bad5d40",
   "metadata": {},
   "outputs": [
    {
     "name": "stdout",
     "output_type": "stream",
     "text": [
      "Grandson Constructor Called\n",
      "Father Class Method Called\n",
      "Son Class Method Called\n",
      "Grandson Class Method Called\n"
     ]
    }
   ],
   "source": [
    "class Father:\n",
    "    def displayF(self):\n",
    "        print(\"Father Class Method Called\")\n",
    "        \n",
    "class Son(Father):\n",
    "    def displayS(self):\n",
    "        print(\"Son Class Method Called\")\n",
    "        \n",
    "class Grandson(Son):\n",
    "    def __init__(self):\n",
    "        print(\"Grandson Constructor Called\")\n",
    "    def displayG(self):\n",
    "        print(\"Grandson Class Method Called\")\n",
    "\n",
    "g = Grandson()\n",
    "g.displayF()\n",
    "g.displayS()\n",
    "g.displayG()"
   ]
  },
  {
   "cell_type": "markdown",
   "id": "80c66652",
   "metadata": {},
   "source": [
    "## Multi-Class or Multiple Inheritance"
   ]
  },
  {
   "cell_type": "code",
   "execution_count": 45,
   "id": "bb80ad87",
   "metadata": {},
   "outputs": [
    {
     "name": "stdout",
     "output_type": "stream",
     "text": [
      "Son Class Constructor\n",
      "Father Class Method\n",
      "Mother Class Method\n",
      "Son Class Method\n"
     ]
    }
   ],
   "source": [
    "class Father:\n",
    "    def __init__(self):\n",
    "        print(\"Father Class Constructor\")\n",
    "    def displayF(self):\n",
    "        print(\"Father Class Method\")\n",
    "class Mother:\n",
    "    def __init__(self):\n",
    "        print(\"Mother Class Constructor\")\n",
    "    def displayM(self):\n",
    "        print(\"Mother Class Method\")\n",
    "class Son(Father, Mother):\n",
    "        def __init__(self):\n",
    "             print(\"Son Class Constructor\")\n",
    "        def displayS(self):\n",
    "            print(\"Son Class Method\")\n",
    "\n",
    "s = Son()\n",
    "s.displayF()\n",
    "s.displayM()\n",
    "s.displayS()\n"
   ]
  },
  {
   "cell_type": "markdown",
   "id": "5bb7a645",
   "metadata": {},
   "source": [
    "## Polymorphism"
   ]
  },
  {
   "cell_type": "code",
   "execution_count": 49,
   "id": "8873aeec",
   "metadata": {},
   "outputs": [
    {
     "name": "stdout",
     "output_type": "stream",
     "text": [
      "Quack! Quack!\n",
      "Neigh! Neigh!\n",
      "Meow! Meow!\n"
     ]
    }
   ],
   "source": [
    "class Duck:\n",
    "    def quack(self):\n",
    "        print(\"Quack! Quack!\")\n",
    "class Horse:\n",
    "    def neigh(self):\n",
    "        print(\"Neigh! Neigh!\")\n",
    "class Cat:\n",
    "    def meow(self):\n",
    "        print(\"Meow! Meow!\")\n",
    "\n",
    "def myFunction(obj):\n",
    "    if hasattr(obj, 'quack'):\n",
    "        obj.quack()\n",
    "    elif hasattr(obj, 'neigh'):\n",
    "        obj.neigh()\n",
    "    elif hasattr(obj, 'meow'):\n",
    "        obj.meow()\n",
    "    else:\n",
    "        print(\"This object cannot walk.\")\n",
    "\n",
    "d = Duck()\n",
    "myFunction(d)\n",
    "h = Horse()\n",
    "myFunction(h)\n",
    "c = Cat()\n",
    "myFunction(c)"
   ]
  },
  {
   "cell_type": "code",
   "execution_count": null,
   "id": "e1227002",
   "metadata": {},
   "outputs": [],
   "source": []
  }
 ],
 "metadata": {
  "kernelspec": {
   "display_name": "Python 3",
   "language": "python",
   "name": "python3"
  },
  "language_info": {
   "codemirror_mode": {
    "name": "ipython",
    "version": 3
   },
   "file_extension": ".py",
   "mimetype": "text/x-python",
   "name": "python",
   "nbconvert_exporter": "python",
   "pygments_lexer": "ipython3",
   "version": "3.10.11"
  }
 },
 "nbformat": 4,
 "nbformat_minor": 5
}
